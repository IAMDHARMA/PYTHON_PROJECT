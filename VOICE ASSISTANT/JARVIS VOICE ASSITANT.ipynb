{
 "cells": [
  {
   "cell_type": "code",
   "execution_count": 2,
   "id": "aa81908e",
   "metadata": {},
   "outputs": [
    {
     "name": "stdout",
     "output_type": "stream",
     "text": [
      "Note: you may need to restart the kernel to use updated packages.\n"
     ]
    },
    {
     "name": "stderr",
     "output_type": "stream",
     "text": [
      "ERROR: Could not find a version that satisfies the requirement pyttxsx3 (from versions: none)\n",
      "ERROR: No matching distribution found for pyttxsx3\n"
     ]
    }
   ],
   "source": [
    "pip install pyttxsx3"
   ]
  },
  {
   "cell_type": "code",
   "execution_count": 3,
   "id": "8c2bb016",
   "metadata": {},
   "outputs": [
    {
     "name": "stdout",
     "output_type": "stream",
     "text": [
      "Collecting pyttsx3==2.7\n",
      "  Downloading pyttsx3-2.7-py3-none-any.whl.metadata (3.5 kB)\n",
      "Downloading pyttsx3-2.7-py3-none-any.whl (30 kB)\n",
      "Installing collected packages: pyttsx3\n",
      "Successfully installed pyttsx3-2.7\n",
      "Note: you may need to restart the kernel to use updated packages.\n"
     ]
    }
   ],
   "source": [
    "pip install pyttsx3==2.7"
   ]
  },
  {
   "cell_type": "code",
   "execution_count": 8,
   "id": "476d4d8f",
   "metadata": {},
   "outputs": [
    {
     "name": "stdout",
     "output_type": "stream",
     "text": [
      "Requirement already satisfied: speechRecognition in c:\\users\\dharm\\anaconda3\\lib\\site-packages (3.14.3)\n",
      "Requirement already satisfied: typing-extensions in c:\\users\\dharm\\anaconda3\\lib\\site-packages (from speechRecognition) (4.11.0)\n",
      "Note: you may need to restart the kernel to use updated packages.\n"
     ]
    }
   ],
   "source": [
    "pip install speechRecognition\n"
   ]
  },
  {
   "cell_type": "code",
   "execution_count": 10,
   "id": "d86ce5d4",
   "metadata": {},
   "outputs": [
    {
     "name": "stdout",
     "output_type": "stream",
     "text": [
      "Collecting wikipedia\n",
      "  Downloading wikipedia-1.4.0.tar.gz (27 kB)\n",
      "  Preparing metadata (setup.py): started\n",
      "  Preparing metadata (setup.py): finished with status 'done'\n",
      "Requirement already satisfied: beautifulsoup4 in c:\\users\\dharm\\anaconda3\\lib\\site-packages (from wikipedia) (4.12.3)\n",
      "Requirement already satisfied: requests<3.0.0,>=2.0.0 in c:\\users\\dharm\\anaconda3\\lib\\site-packages (from wikipedia) (2.32.3)\n",
      "Requirement already satisfied: charset-normalizer<4,>=2 in c:\\users\\dharm\\anaconda3\\lib\\site-packages (from requests<3.0.0,>=2.0.0->wikipedia) (3.3.2)\n",
      "Requirement already satisfied: idna<4,>=2.5 in c:\\users\\dharm\\anaconda3\\lib\\site-packages (from requests<3.0.0,>=2.0.0->wikipedia) (3.7)\n",
      "Requirement already satisfied: urllib3<3,>=1.21.1 in c:\\users\\dharm\\anaconda3\\lib\\site-packages (from requests<3.0.0,>=2.0.0->wikipedia) (2.2.3)\n",
      "Requirement already satisfied: certifi>=2017.4.17 in c:\\users\\dharm\\anaconda3\\lib\\site-packages (from requests<3.0.0,>=2.0.0->wikipedia) (2025.4.26)\n",
      "Requirement already satisfied: soupsieve>1.2 in c:\\users\\dharm\\anaconda3\\lib\\site-packages (from beautifulsoup4->wikipedia) (2.5)\n",
      "Building wheels for collected packages: wikipedia\n",
      "  Building wheel for wikipedia (setup.py): started\n",
      "  Building wheel for wikipedia (setup.py): finished with status 'done'\n",
      "  Created wheel for wikipedia: filename=wikipedia-1.4.0-py3-none-any.whl size=11705 sha256=e39424ebf37cf9b51f6a26a9dddd5f0b261f7abc027b2357a5cb46e324f5c839\n",
      "  Stored in directory: c:\\users\\dharm\\appdata\\local\\pip\\cache\\wheels\\63\\47\\7c\\a9688349aa74d228ce0a9023229c6c0ac52ca2a40fe87679b8\n",
      "Successfully built wikipedia\n",
      "Installing collected packages: wikipedia\n",
      "Successfully installed wikipedia-1.4.0\n",
      "Note: you may need to restart the kernel to use updated packages.\n"
     ]
    }
   ],
   "source": [
    "pip install wikipedia"
   ]
  },
  {
   "cell_type": "code",
   "execution_count": 13,
   "id": "951ce022",
   "metadata": {},
   "outputs": [
    {
     "name": "stdout",
     "output_type": "stream",
     "text": [
      "Collecting comtypes\n",
      "  Using cached comtypes-1.4.11-py3-none-any.whl.metadata (7.2 kB)\n",
      "Using cached comtypes-1.4.11-py3-none-any.whl (246 kB)\n",
      "Installing collected packages: comtypes\n",
      "Successfully installed comtypes-1.4.11\n",
      "Note: you may need to restart the kernel to use updated packages.\n"
     ]
    }
   ],
   "source": [
    "pip install comtypes"
   ]
  },
  {
   "cell_type": "code",
   "execution_count": 32,
   "id": "d24a2fe1",
   "metadata": {},
   "outputs": [
    {
     "name": "stdout",
     "output_type": "stream",
     "text": [
      "Collecting pyaudioNote: you may need to restart the kernel to use updated packages.\n",
      "\n",
      "  Downloading PyAudio-0.2.14-cp312-cp312-win_amd64.whl.metadata (2.7 kB)\n",
      "Downloading PyAudio-0.2.14-cp312-cp312-win_amd64.whl (164 kB)\n",
      "Installing collected packages: pyaudio\n",
      "Successfully installed pyaudio-0.2.14\n"
     ]
    }
   ],
   "source": [
    "pip install pyaudio"
   ]
  },
  {
   "cell_type": "code",
   "execution_count": 29,
   "id": "e95763e8",
   "metadata": {},
   "outputs": [],
   "source": [
    "import pyttsx3\n",
    "import speech_recognition as sr\n",
    "import datetime\n",
    "import wikipedia\n",
    "import webbrowser\n",
    "import os \n",
    "import comtypes.client"
   ]
  },
  {
   "cell_type": "code",
   "execution_count": 43,
   "id": "1468a5a6",
   "metadata": {},
   "outputs": [
    {
     "name": "stdout",
     "output_type": "stream",
     "text": [
      "listening...\n",
      "regocgnizing..\n",
      "user said: open YouTube\n",
      "\n",
      "listening...\n",
      "regocgnizing..\n",
      "say that again please\n"
     ]
    },
    {
     "ename": "AttributeError",
     "evalue": "'NoneType' object has no attribute 'lower'",
     "output_type": "error",
     "traceback": [
      "\u001b[1;31m---------------------------------------------------------------------------\u001b[0m",
      "\u001b[1;31mAttributeError\u001b[0m                            Traceback (most recent call last)",
      "Cell \u001b[1;32mIn[43], line 41\u001b[0m\n\u001b[0;32m     39\u001b[0m wishMe()\n\u001b[0;32m     40\u001b[0m \u001b[38;5;28;01mwhile\u001b[39;00m \u001b[38;5;28;01mTrue\u001b[39;00m:\n\u001b[1;32m---> 41\u001b[0m     query\u001b[38;5;241m=\u001b[39mtakeCommand()\u001b[38;5;241m.\u001b[39mlower()\n\u001b[0;32m     43\u001b[0m     \u001b[38;5;28;01mif\u001b[39;00m \u001b[38;5;124m'\u001b[39m\u001b[38;5;124mwikipedia\u001b[39m\u001b[38;5;124m'\u001b[39m \u001b[38;5;129;01min\u001b[39;00m query:\n\u001b[0;32m     44\u001b[0m         speak(\u001b[38;5;124m'\u001b[39m\u001b[38;5;124msearching wikipedia\u001b[39m\u001b[38;5;124m'\u001b[39m)\n",
      "\u001b[1;31mAttributeError\u001b[0m: 'NoneType' object has no attribute 'lower'"
     ]
    }
   ],
   "source": [
    "engine=pyttsx3.init('sapi5')\n",
    "voices=engine.getProperty('voices')\n",
    "engine.setProperty('voices',voices[0].id)\n",
    "\n",
    "def speak(audio):\n",
    "    engine.say(audio)\n",
    "    engine.runAndWait()\n",
    "\n",
    "def wishMe():\n",
    "    hour=int(datetime.datetime.now().hour)\n",
    "    if hour>=0 and hour<=12:\n",
    "        speak('Good morning')\n",
    "    elif hour>12 and hour<=18:\n",
    "        speak('Good Afternoon')\n",
    "    else:\n",
    "        speak('Good evening')\n",
    "\n",
    "    speak('i am Jarvis, Please tell me how may I help you')\n",
    "    \n",
    "def takeCommand():\n",
    "\n",
    "    r=sr.Recognizer()\n",
    "    with sr.Microphone() as source:\n",
    "        print(\"listening...\")\n",
    "        r.pause_threshold=1\n",
    "        audio=r.listen(source)\n",
    "    \n",
    "    try:\n",
    "        print(\"regocgnizing..\")\n",
    "        query=r.recognize_google(audio,language='en-in')\n",
    "        print(f\"user said: {query}\\n\")\n",
    "\n",
    "    except Exception as e:\n",
    "        print('say that again please')\n",
    "        return None\n",
    "    return query\n",
    "\n",
    "if __name__==\"__main__\":\n",
    "    wishMe()\n",
    "    while True:\n",
    "        query=takeCommand().lower()\n",
    "\n",
    "        if 'wikipedia' in query:\n",
    "            speak('searching wikipedia')\n",
    "            query=query.replace(\"wikipedia\",\"\")\n",
    "            results=wikipedia.summary(query,sentences=2)\n",
    "            speak('According to Wikipedia')\n",
    "            print(results)\n",
    "            speak(results)\n",
    "\n",
    "        elif 'open youtube' in query:\n",
    "            webbrowser.open('youtube.com')\n",
    "        elif 'open chrome' in query:\n",
    "            webbrowser.open('chrome.com')\n",
    "        elif 'open instagram' in query:\n",
    "            webbrowser.open('instagram.com')\n",
    "        elif 'play video' in query:\n",
    "            video_dir=\"C:/Users/Dharm/Videos/Screen Recordings\"\n",
    "            video=os.listdir(video_dir)\n",
    "            print(video)\n",
    "            os.startfile(os.path.join(video_dir,video[0]))\n",
    "\n",
    "        elif 'the time' in query:\n",
    "            strTime=datetime.datetime.now().strftime('%H:%M:%S')\n",
    "            speak(f\"sir, the fucking time is {strTime}\")\n",
    "        else:\n",
    "            speak('bye')"
   ]
  }
 ],
 "metadata": {
  "kernelspec": {
   "display_name": "base",
   "language": "python",
   "name": "python3"
  },
  "language_info": {
   "codemirror_mode": {
    "name": "ipython",
    "version": 3
   },
   "file_extension": ".py",
   "mimetype": "text/x-python",
   "name": "python",
   "nbconvert_exporter": "python",
   "pygments_lexer": "ipython3",
   "version": "3.12.7"
  }
 },
 "nbformat": 4,
 "nbformat_minor": 5
}
